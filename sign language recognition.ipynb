{
 "cells": [
  {
   "cell_type": "markdown",
   "id": "96c4553e",
   "metadata": {
    "papermill": {
     "duration": 0.007527,
     "end_time": "2022-12-31T13:55:12.114998",
     "exception": false,
     "start_time": "2022-12-31T13:55:12.107471",
     "status": "completed"
    },
    "tags": []
   },
   "source": [
    "# Import libiraries"
   ]
  },
  {
   "cell_type": "code",
   "execution_count": 1,
   "id": "b3bafdad",
   "metadata": {
    "_cell_guid": "b1076dfc-b9ad-4769-8c92-a6c4dae69d19",
    "_uuid": "8f2839f25d086af736a60e9eeb907d3b93b6e0e5",
    "execution": {
     "iopub.execute_input": "2022-12-31T13:55:12.129851Z",
     "iopub.status.busy": "2022-12-31T13:55:12.129380Z",
     "iopub.status.idle": "2022-12-31T13:55:17.400767Z",
     "shell.execute_reply": "2022-12-31T13:55:17.399951Z"
    },
    "papermill": {
     "duration": 5.281248,
     "end_time": "2022-12-31T13:55:17.403029",
     "exception": false,
     "start_time": "2022-12-31T13:55:12.121781",
     "status": "completed"
    },
    "tags": []
   },
   "outputs": [],
   "source": [
    "# Import libraries\n",
    "import warnings\n",
    "warnings.filterwarnings(\"ignore\")\n",
    "import os,cv2\n",
    "import numpy as np\n",
    "import matplotlib.pyplot as plt\n",
    "from sklearn.utils import shuffle\n",
    "from keras import backend as K\n",
    "from keras.utils import np_utils\n",
    "from keras.models import Sequential\n",
    "from keras.layers.core import Dense, Dropout, Activation, Flatten\n",
    "from keras.layers.convolutional import Convolution2D, MaxPooling2D\n",
    "from tensorflow.keras.optimizers import SGD,RMSprop,Adam\n",
    "import tensorflow as tf\n",
    "from sklearn.model_selection import train_test_split\n",
    "from keras.models import Sequential,Model\n",
    "from keras.layers.convolutional import Conv2D,MaxPooling2D\n",
    "from sklearn.metrics import classification_report\n",
    "from sklearn.svm import SVC\n",
    "import pandas as pd\n",
    "from sklearn.metrics import accuracy_score\n",
    "from sklearn.model_selection import KFold\n",
    "from keras import layers\n",
    "from keras import optimizers"
   ]
  },
  {
   "cell_type": "markdown",
   "id": "7288bca9",
   "metadata": {
    "papermill": {
     "duration": 0.006974,
     "end_time": "2022-12-31T13:55:17.417258",
     "exception": false,
     "start_time": "2022-12-31T13:55:17.410284",
     "status": "completed"
    },
    "tags": []
   },
   "source": [
    "# Reading the images"
   ]
  },
  {
   "cell_type": "code",
   "execution_count": 2,
   "id": "2c6d36ec",
   "metadata": {
    "execution": {
     "iopub.execute_input": "2022-12-31T13:55:17.431856Z",
     "iopub.status.busy": "2022-12-31T13:55:17.431374Z",
     "iopub.status.idle": "2022-12-31T13:55:28.911697Z",
     "shell.execute_reply": "2022-12-31T13:55:28.910979Z"
    },
    "papermill": {
     "duration": 11.489807,
     "end_time": "2022-12-31T13:55:28.913677",
     "exception": false,
     "start_time": "2022-12-31T13:55:17.423870",
     "status": "completed"
    },
    "tags": []
   },
   "outputs": [],
   "source": [
    "# gray scale image list\n",
    "img_data_list=[]\n",
    "\n",
    "# RGB image list\n",
    "rgb_images = []\n",
    "\n",
    "# List for labels \n",
    "labels = []\n",
    "\n",
    "myList = os.listdir(\"/kaggle/input/sign-language-digits/Dataset\")\n",
    "\n",
    "for i in myList:\n",
    "    data_dir_list =  os.listdir('/kaggle/input/sign-language-digits/Dataset/'+ str(i) )\n",
    "    for img in data_dir_list:\n",
    "            input_img=cv2.imread('/kaggle/input/sign-language-digits/Dataset/' + str(i)+ '/'+ '/'+ img)\n",
    "            rgb_img_resize=cv2.resize(input_img,(100,100))\n",
    "            rgb_images.append(rgb_img_resize)\n",
    "            input_img= cv2.cvtColor(input_img, cv2.COLOR_BGR2GRAY)\n",
    "            input_img_resize=cv2.resize(input_img,(100,100))\n",
    "            img_data_list.append(input_img_resize)\n",
    "            labels.append(i)   "
   ]
  },
  {
   "cell_type": "markdown",
   "id": "d821b9b9",
   "metadata": {
    "papermill": {
     "duration": 0.006443,
     "end_time": "2022-12-31T13:55:28.927034",
     "exception": false,
     "start_time": "2022-12-31T13:55:28.920591",
     "status": "completed"
    },
    "tags": []
   },
   "source": [
    "# Size of rgb image"
   ]
  },
  {
   "cell_type": "code",
   "execution_count": 3,
   "id": "b19bbf3d",
   "metadata": {
    "execution": {
     "iopub.execute_input": "2022-12-31T13:55:28.942203Z",
     "iopub.status.busy": "2022-12-31T13:55:28.941947Z",
     "iopub.status.idle": "2022-12-31T13:55:28.948727Z",
     "shell.execute_reply": "2022-12-31T13:55:28.947979Z"
    },
    "papermill": {
     "duration": 0.017098,
     "end_time": "2022-12-31T13:55:28.950630",
     "exception": false,
     "start_time": "2022-12-31T13:55:28.933532",
     "status": "completed"
    },
    "tags": []
   },
   "outputs": [
    {
     "data": {
      "text/plain": [
       "(100, 100, 3)"
      ]
     },
     "execution_count": 3,
     "metadata": {},
     "output_type": "execute_result"
    }
   ],
   "source": [
    "rgb_images[0].shape"
   ]
  },
  {
   "cell_type": "markdown",
   "id": "2d4b36b2",
   "metadata": {
    "papermill": {
     "duration": 0.006508,
     "end_time": "2022-12-31T13:55:28.963901",
     "exception": false,
     "start_time": "2022-12-31T13:55:28.957393",
     "status": "completed"
    },
    "tags": []
   },
   "source": [
    "# Size After convert images to gray scale"
   ]
  },
  {
   "cell_type": "code",
   "execution_count": 4,
   "id": "0ab09f6e",
   "metadata": {
    "execution": {
     "iopub.execute_input": "2022-12-31T13:55:28.978533Z",
     "iopub.status.busy": "2022-12-31T13:55:28.978283Z",
     "iopub.status.idle": "2022-12-31T13:55:28.982891Z",
     "shell.execute_reply": "2022-12-31T13:55:28.982110Z"
    },
    "papermill": {
     "duration": 0.0139,
     "end_time": "2022-12-31T13:55:28.984509",
     "exception": false,
     "start_time": "2022-12-31T13:55:28.970609",
     "status": "completed"
    },
    "tags": []
   },
   "outputs": [
    {
     "data": {
      "text/plain": [
       "(100, 100)"
      ]
     },
     "execution_count": 4,
     "metadata": {},
     "output_type": "execute_result"
    }
   ],
   "source": [
    "img_data_list[0].shape"
   ]
  },
  {
   "cell_type": "markdown",
   "id": "14bf31ea",
   "metadata": {
    "papermill": {
     "duration": 0.006638,
     "end_time": "2022-12-31T13:55:28.997937",
     "exception": false,
     "start_time": "2022-12-31T13:55:28.991299",
     "status": "completed"
    },
    "tags": []
   },
   "source": [
    "# Scaling for gray scale images /255"
   ]
  },
  {
   "cell_type": "code",
   "execution_count": 5,
   "id": "40fc19a6",
   "metadata": {
    "execution": {
     "iopub.execute_input": "2022-12-31T13:55:29.012657Z",
     "iopub.status.busy": "2022-12-31T13:55:29.012430Z",
     "iopub.status.idle": "2022-12-31T13:55:29.037434Z",
     "shell.execute_reply": "2022-12-31T13:55:29.036649Z"
    },
    "papermill": {
     "duration": 0.034778,
     "end_time": "2022-12-31T13:55:29.039467",
     "exception": false,
     "start_time": "2022-12-31T13:55:29.004689",
     "status": "completed"
    },
    "tags": []
   },
   "outputs": [],
   "source": [
    "# convert img_data_list into np.array\n",
    "img_data_list = np.array(img_data_list)\n",
    "img_data_list = img_data_list.astype('float32')\n",
    "\n",
    "\n",
    "# Scaling for gray scale images /255\n",
    "img_data_list /= 255.0\n",
    "\n",
    "# convert labels into np.array\n",
    "labels = np.array(labels).astype('int32')"
   ]
  },
  {
   "cell_type": "markdown",
   "id": "34817431",
   "metadata": {
    "papermill": {
     "duration": 0.006996,
     "end_time": "2022-12-31T13:55:29.053733",
     "exception": false,
     "start_time": "2022-12-31T13:55:29.046737",
     "status": "completed"
    },
    "tags": []
   },
   "source": [
    "# Building 2 neural network"
   ]
  },
  {
   "cell_type": "markdown",
   "id": "9ccd99a9",
   "metadata": {
    "papermill": {
     "duration": 0.006747,
     "end_time": "2022-12-31T13:55:29.067450",
     "exception": false,
     "start_time": "2022-12-31T13:55:29.060703",
     "status": "completed"
    },
    "tags": []
   },
   "source": [
    "# First neural network"
   ]
  },
  {
   "cell_type": "code",
   "execution_count": 6,
   "id": "5514751f",
   "metadata": {
    "execution": {
     "iopub.execute_input": "2022-12-31T13:55:29.082784Z",
     "iopub.status.busy": "2022-12-31T13:55:29.082498Z",
     "iopub.status.idle": "2022-12-31T13:55:29.205457Z",
     "shell.execute_reply": "2022-12-31T13:55:29.204573Z"
    },
    "papermill": {
     "duration": 0.132912,
     "end_time": "2022-12-31T13:55:29.207280",
     "exception": false,
     "start_time": "2022-12-31T13:55:29.074368",
     "status": "completed"
    },
    "tags": []
   },
   "outputs": [
    {
     "name": "stderr",
     "output_type": "stream",
     "text": [
      "2022-12-31 13:55:29.110993: I tensorflow/core/common_runtime/process_util.cc:146] Creating new thread pool with default inter op setting: 2. Tune using inter_op_parallelism_threads for best performance.\n"
     ]
    }
   ],
   "source": [
    "def model():\n",
    "    model = Sequential();\n",
    "    \n",
    "    model.add(Flatten(input_shape=(100,100)))\n",
    "    \n",
    "    model.add(Dense(256,activation=\"relu\"))\n",
    "    model.add(Dropout(0.1))\n",
    "    \n",
    "    model.add(Dense(256,activation=\"relu\"))\n",
    "    model.add(Dropout(0.1))\n",
    "     \n",
    "    \n",
    "    model.add(Dense(128,activation=\"relu\"))\n",
    "    model.add(Dense(64,activation=\"relu\"))\n",
    "    model.add(Dense(10,activation=\"softmax\"))\n",
    "    \n",
    "    model.compile(Adam(lr=0.00001),loss=\"sparse_categorical_crossentropy\",metrics=['accuracy'])\n",
    "\n",
    "    return model\n",
    "  \n",
    "model1=model()"
   ]
  },
  {
   "cell_type": "markdown",
   "id": "65bcf3cf",
   "metadata": {
    "papermill": {
     "duration": 0.00684,
     "end_time": "2022-12-31T13:55:29.221355",
     "exception": false,
     "start_time": "2022-12-31T13:55:29.214515",
     "status": "completed"
    },
    "tags": []
   },
   "source": [
    "# First neural network cross validation fit"
   ]
  },
  {
   "cell_type": "code",
   "execution_count": 7,
   "id": "a092525f",
   "metadata": {
    "execution": {
     "iopub.execute_input": "2022-12-31T13:55:29.236546Z",
     "iopub.status.busy": "2022-12-31T13:55:29.236243Z",
     "iopub.status.idle": "2022-12-31T13:57:02.212805Z",
     "shell.execute_reply": "2022-12-31T13:57:02.211348Z"
    },
    "papermill": {
     "duration": 92.986428,
     "end_time": "2022-12-31T13:57:02.214875",
     "exception": false,
     "start_time": "2022-12-31T13:55:29.228447",
     "status": "completed"
    },
    "scrolled": false,
    "tags": []
   },
   "outputs": [
    {
     "name": "stdout",
     "output_type": "stream",
     "text": [
      "********************First neural network(ANN)***************************\n",
      "Cross Validation Fold Number 1\n"
     ]
    },
    {
     "name": "stderr",
     "output_type": "stream",
     "text": [
      "2022-12-31 13:55:29.332346: I tensorflow/compiler/mlir/mlir_graph_optimization_pass.cc:185] None of the MLIR Optimization Passes are enabled (registered 2)\n"
     ]
    },
    {
     "name": "stdout",
     "output_type": "stream",
     "text": [
      "Train accuracy :  70.9520936012268\n",
      "Test accuracy :  67.07021594047546\n",
      "              precision    recall  f1-score   support\n",
      "\n",
      "           0       0.87      0.74      0.80        46\n",
      "           1       0.63      0.82      0.71        39\n",
      "           2       0.65      0.57      0.61        49\n",
      "           3       0.77      0.80      0.78        45\n",
      "           4       0.44      0.44      0.44        32\n",
      "           5       0.78      0.75      0.76        52\n",
      "           6       0.47      0.58      0.52        31\n",
      "           7       0.62      0.46      0.52        46\n",
      "           8       0.67      0.63      0.65        41\n",
      "           9       0.72      0.91      0.81        32\n",
      "\n",
      "    accuracy                           0.67       413\n",
      "   macro avg       0.66      0.67      0.66       413\n",
      "weighted avg       0.68      0.67      0.67       413\n",
      "\n",
      "******************************************************\n",
      "Cross Validation Fold Number 2\n",
      "Train accuracy :  79.1388750076294\n",
      "Test accuracy :  76.27118825912476\n",
      "              precision    recall  f1-score   support\n",
      "\n",
      "           0       0.85      0.85      0.85        39\n",
      "           1       0.83      0.83      0.83        47\n",
      "           2       0.93      0.60      0.73        47\n",
      "           3       0.83      0.85      0.84        40\n",
      "           4       0.46      0.62      0.52        26\n",
      "           5       0.94      0.81      0.87        42\n",
      "           6       0.70      0.64      0.67        50\n",
      "           7       0.64      0.80      0.71        35\n",
      "           8       0.73      0.77      0.75        47\n",
      "           9       0.76      0.88      0.81        40\n",
      "\n",
      "    accuracy                           0.76       413\n",
      "   macro avg       0.77      0.76      0.76       413\n",
      "weighted avg       0.78      0.76      0.77       413\n",
      "\n",
      "******************************************************\n",
      "Cross Validation Fold Number 3\n",
      "Train accuracy :  85.87878942489624\n",
      "Test accuracy :  82.52426981925964\n",
      "              precision    recall  f1-score   support\n",
      "\n",
      "           0       0.94      0.92      0.93        48\n",
      "           1       0.76      0.92      0.83        24\n",
      "           2       0.75      0.79      0.77        34\n",
      "           3       0.87      0.89      0.88        46\n",
      "           4       0.81      0.81      0.81        52\n",
      "           5       0.93      0.89      0.91        44\n",
      "           6       0.78      0.83      0.80        42\n",
      "           7       0.84      0.68      0.75        56\n",
      "           8       0.67      0.71      0.69        31\n",
      "           9       0.83      0.86      0.85        35\n",
      "\n",
      "    accuracy                           0.83       412\n",
      "   macro avg       0.82      0.83      0.82       412\n",
      "weighted avg       0.83      0.83      0.83       412\n",
      "\n",
      "******************************************************\n",
      "Cross Validation Fold Number 4\n",
      "Train accuracy :  88.72727155685425\n",
      "Test accuracy :  88.34951519966125\n",
      "              precision    recall  f1-score   support\n",
      "\n",
      "           0       0.90      0.92      0.91        39\n",
      "           1       0.98      0.84      0.90        49\n",
      "           2       0.94      0.94      0.94        49\n",
      "           3       0.89      0.94      0.91        33\n",
      "           4       0.77      0.81      0.79        37\n",
      "           5       0.89      0.95      0.92        43\n",
      "           6       0.82      0.86      0.84        36\n",
      "           7       0.83      0.80      0.81        44\n",
      "           8       0.91      0.89      0.90        44\n",
      "           9       0.89      0.89      0.89        38\n",
      "\n",
      "    accuracy                           0.88       412\n",
      "   macro avg       0.88      0.88      0.88       412\n",
      "weighted avg       0.89      0.88      0.88       412\n",
      "\n",
      "******************************************************\n",
      "Cross Validation Fold Number 5\n",
      "Train accuracy :  92.66666769981384\n",
      "Test accuracy :  84.70873832702637\n",
      "              precision    recall  f1-score   support\n",
      "\n",
      "           0       0.90      0.97      0.94        37\n",
      "           1       0.89      0.87      0.88        38\n",
      "           2       0.90      0.86      0.88        50\n",
      "           3       0.92      0.89      0.90        37\n",
      "           4       0.73      0.78      0.76        46\n",
      "           5       0.94      0.86      0.90        36\n",
      "           6       0.75      0.81      0.78        37\n",
      "           7       0.73      0.75      0.74        40\n",
      "           8       0.80      0.83      0.81        42\n",
      "           9       0.95      0.86      0.90        49\n",
      "\n",
      "    accuracy                           0.85       412\n",
      "   macro avg       0.85      0.85      0.85       412\n",
      "weighted avg       0.85      0.85      0.85       412\n",
      "\n",
      "******************************************************\n",
      "Summary of First NN: \n",
      "Mean Train accuracy:  83.4727394580841\n",
      "Mean Test accuracy:  79.7847855091095\n"
     ]
    }
   ],
   "source": [
    "train_acc1 = []\n",
    "test_acc1 = []\n",
    "print(\"********************First neural network(ANN)***************************\")\n",
    "kf = KFold(n_splits=5,random_state=None, shuffle=True)\n",
    "i = 1\n",
    "for train_index, test_index in kf.split(img_data_list):\n",
    "    X_train, X_test = img_data_list[train_index], img_data_list[test_index]\n",
    "    y_train, y_test = labels[train_index], labels[test_index]\n",
    "    print(\"Cross Validation Fold Number\",str(i))\n",
    "    model1.fit(X_train,y_train,epochs=100,batch_size=128,max_queue_size=20,use_multiprocessing=True,workers=1,verbose=0)\n",
    "    i +=1\n",
    "    y_pred = model1.predict(X_test)\n",
    "    y_pred =np.argmax(y_pred, axis=1)\n",
    "    train_eval = model1.evaluate(X_train,y_train,verbose=0)\n",
    "    test_eval = model1.evaluate(X_test,y_test,verbose=0)\n",
    "    print(\"Train accuracy : \",train_eval[1]*100)\n",
    "    print(\"Test accuracy : \",test_eval[1]*100)\n",
    "    print(classification_report(y_pred,y_test))\n",
    "    train_acc1.append(train_eval[1])\n",
    "    test_acc1.append(test_eval[1])\n",
    "    print(\"******************************************************\")\n",
    "\n",
    "print(\"Summary of First NN: \")\n",
    "print(\"Mean Train accuracy: \",np.mean(train_acc1)*100)\n",
    "print(\"Mean Test accuracy: \",np.mean(test_acc1)*100)"
   ]
  },
  {
   "cell_type": "markdown",
   "id": "b59ba58e",
   "metadata": {
    "papermill": {
     "duration": 0.00739,
     "end_time": "2022-12-31T13:57:02.230598",
     "exception": false,
     "start_time": "2022-12-31T13:57:02.223208",
     "status": "completed"
    },
    "tags": []
   },
   "source": [
    "# Second neural network"
   ]
  },
  {
   "cell_type": "code",
   "execution_count": 8,
   "id": "9712c8ea",
   "metadata": {
    "execution": {
     "iopub.execute_input": "2022-12-31T13:57:02.246390Z",
     "iopub.status.busy": "2022-12-31T13:57:02.246130Z",
     "iopub.status.idle": "2022-12-31T13:57:02.293350Z",
     "shell.execute_reply": "2022-12-31T13:57:02.292624Z"
    },
    "papermill": {
     "duration": 0.057364,
     "end_time": "2022-12-31T13:57:02.295325",
     "exception": false,
     "start_time": "2022-12-31T13:57:02.237961",
     "status": "completed"
    },
    "tags": []
   },
   "outputs": [],
   "source": [
    "def model():\n",
    "    model = Sequential();\n",
    "    model.add(Flatten(input_shape=(100,100)))\n",
    "    model.add(Dense(256,activation=\"relu\"))\n",
    "    model.add(Dropout(0.1))\n",
    "\n",
    "    model.add(Dense(128,activation=\"relu\"))\n",
    "    model.add(Dense(64,activation=\"relu\"))\n",
    "    model.add(Dense(10,activation=\"softmax\"))\n",
    "    model.compile(Adam(lr=0.0001),loss=\"sparse_categorical_crossentropy\",metrics=['accuracy'])\n",
    "\n",
    "    return model\n",
    "  \n",
    "model2=model()"
   ]
  },
  {
   "cell_type": "markdown",
   "id": "616ecd34",
   "metadata": {
    "papermill": {
     "duration": 0.007258,
     "end_time": "2022-12-31T13:57:02.310360",
     "exception": false,
     "start_time": "2022-12-31T13:57:02.303102",
     "status": "completed"
    },
    "tags": []
   },
   "source": [
    "# Second neural network cross validation fit"
   ]
  },
  {
   "cell_type": "code",
   "execution_count": 9,
   "id": "b48ee010",
   "metadata": {
    "execution": {
     "iopub.execute_input": "2022-12-31T13:57:02.326377Z",
     "iopub.status.busy": "2022-12-31T13:57:02.326098Z",
     "iopub.status.idle": "2022-12-31T13:58:17.634302Z",
     "shell.execute_reply": "2022-12-31T13:58:17.633233Z"
    },
    "papermill": {
     "duration": 75.31838,
     "end_time": "2022-12-31T13:58:17.636229",
     "exception": false,
     "start_time": "2022-12-31T13:57:02.317849",
     "status": "completed"
    },
    "scrolled": false,
    "tags": []
   },
   "outputs": [
    {
     "name": "stdout",
     "output_type": "stream",
     "text": [
      "********************Second neural network(ANN)**********************\n",
      "Cross Validation Fold Number 1\n",
      "Train accuracy :  84.2328667640686\n",
      "Test accuracy :  76.27118825912476\n",
      "              precision    recall  f1-score   support\n",
      "\n",
      "           0       0.84      0.89      0.86        36\n",
      "           1       0.91      0.89      0.90        35\n",
      "           2       0.79      0.58      0.67        52\n",
      "           3       0.87      0.89      0.88        37\n",
      "           4       0.64      0.65      0.65        46\n",
      "           5       0.98      0.82      0.89        55\n",
      "           6       0.67      0.68      0.67        41\n",
      "           7       0.57      0.66      0.61        41\n",
      "           8       0.74      0.78      0.76        36\n",
      "           9       0.69      0.91      0.78        34\n",
      "\n",
      "    accuracy                           0.76       413\n",
      "   macro avg       0.77      0.77      0.77       413\n",
      "weighted avg       0.77      0.76      0.76       413\n",
      "\n",
      "******************************************************\n",
      "Cross Validation Fold Number 2\n",
      "Train accuracy :  90.47907590866089\n",
      "Test accuracy :  81.35592937469482\n",
      "              precision    recall  f1-score   support\n",
      "\n",
      "           0       0.82      0.90      0.86        31\n",
      "           1       0.95      0.72      0.82        50\n",
      "           2       0.84      0.81      0.83        47\n",
      "           3       0.89      0.82      0.86        40\n",
      "           4       0.50      0.90      0.64        29\n",
      "           5       0.89      0.87      0.88        38\n",
      "           6       0.79      0.59      0.68        44\n",
      "           7       0.76      0.84      0.80        44\n",
      "           8       0.84      0.91      0.88        47\n",
      "           9       0.97      0.84      0.90        43\n",
      "\n",
      "    accuracy                           0.81       413\n",
      "   macro avg       0.83      0.82      0.81       413\n",
      "weighted avg       0.84      0.81      0.82       413\n",
      "\n",
      "******************************************************\n",
      "Cross Validation Fold Number 3\n",
      "Train accuracy :  95.87878584861755\n",
      "Test accuracy :  91.99029207229614\n",
      "              precision    recall  f1-score   support\n",
      "\n",
      "           0       0.98      1.00      0.99        40\n",
      "           1       0.96      0.94      0.95        52\n",
      "           2       0.98      0.94      0.96        47\n",
      "           3       0.97      0.95      0.96        39\n",
      "           4       0.76      0.90      0.82        41\n",
      "           5       0.94      0.97      0.95        30\n",
      "           6       0.86      0.86      0.86        43\n",
      "           7       0.95      0.85      0.90        41\n",
      "           8       0.91      0.89      0.90        35\n",
      "           9       0.93      0.91      0.92        44\n",
      "\n",
      "    accuracy                           0.92       412\n",
      "   macro avg       0.92      0.92      0.92       412\n",
      "weighted avg       0.92      0.92      0.92       412\n",
      "\n",
      "******************************************************\n",
      "Cross Validation Fold Number 4\n",
      "Train accuracy :  98.42424392700195\n",
      "Test accuracy :  95.14563083648682\n",
      "              precision    recall  f1-score   support\n",
      "\n",
      "           0       0.98      0.98      0.98        48\n",
      "           1       1.00      0.92      0.96        49\n",
      "           2       0.93      0.95      0.94        42\n",
      "           3       0.96      1.00      0.98        51\n",
      "           4       0.86      1.00      0.93        25\n",
      "           5       0.90      1.00      0.95        37\n",
      "           6       0.94      1.00      0.97        33\n",
      "           7       0.93      0.95      0.94        43\n",
      "           8       0.97      0.90      0.94        42\n",
      "           9       1.00      0.83      0.91        42\n",
      "\n",
      "    accuracy                           0.95       412\n",
      "   macro avg       0.95      0.95      0.95       412\n",
      "weighted avg       0.95      0.95      0.95       412\n",
      "\n",
      "******************************************************\n",
      "Cross Validation Fold Number 5\n",
      "Train accuracy :  99.81818199157715\n",
      "Test accuracy :  97.57281541824341\n",
      "              precision    recall  f1-score   support\n",
      "\n",
      "           0       0.98      1.00      0.99        43\n",
      "           1       0.97      0.97      0.97        38\n",
      "           2       0.89      0.97      0.93        32\n",
      "           3       0.95      0.97      0.96        39\n",
      "           4       1.00      0.97      0.98        31\n",
      "           5       1.00      1.00      1.00        52\n",
      "           6       0.98      0.96      0.97        55\n",
      "           7       1.00      0.94      0.97        31\n",
      "           8       1.00      0.98      0.99        47\n",
      "           9       0.98      0.98      0.98        44\n",
      "\n",
      "    accuracy                           0.98       412\n",
      "   macro avg       0.97      0.97      0.97       412\n",
      "weighted avg       0.98      0.98      0.98       412\n",
      "\n",
      "******************************************************\n",
      "Summary of Second NN: \n",
      "Mean Train accuracy:  93.76663088798523\n",
      "Mean Test accuracy:  88.46717119216919\n"
     ]
    }
   ],
   "source": [
    "train_acc2 = []\n",
    "test_acc2 = []\n",
    "print(\"********************Second neural network(ANN)**********************\")\n",
    "kf = KFold(n_splits=5,random_state=None, shuffle=True)\n",
    "i = 1\n",
    "for train_index, test_index in kf.split(img_data_list):\n",
    "    X_train, X_test = img_data_list[train_index], img_data_list[test_index]\n",
    "    y_train, y_test = labels[train_index], labels[test_index]\n",
    "    print(\"Cross Validation Fold Number\",str(i))\n",
    "    model2.fit(X_train,y_train,epochs=100,batch_size=256,max_queue_size=20,use_multiprocessing=True,workers=1,verbose=0)\n",
    "    i +=1\n",
    "    y_pred = model2.predict(X_test)\n",
    "    y_pred =np.argmax(y_pred, axis=1)\n",
    "    train_eval = model2.evaluate(X_train,y_train,verbose=0)\n",
    "    test_eval = model2.evaluate(X_test,y_test,verbose=0)\n",
    "    print(\"Train accuracy : \",train_eval[1]*100)\n",
    "    print(\"Test accuracy : \",test_eval[1]*100)\n",
    "    print(classification_report(y_pred,y_test))\n",
    "    train_acc2.append(train_eval[1])\n",
    "    test_acc2.append(test_eval[1])\n",
    "    print(\"******************************************************\")\n",
    "                                                                 \n",
    "\n",
    "print(\"Summary of Second NN: \")\n",
    "print(\"Mean Train accuracy: \",np.mean(train_acc2)*100)\n",
    "print(\"Mean Test accuracy: \",np.mean(test_acc2)*100)"
   ]
  },
  {
   "cell_type": "markdown",
   "id": "c5b54030",
   "metadata": {
    "papermill": {
     "duration": 0.007578,
     "end_time": "2022-12-31T13:58:17.651772",
     "exception": false,
     "start_time": "2022-12-31T13:58:17.644194",
     "status": "completed"
    },
    "tags": []
   },
   "source": [
    "# conclusion:\n",
    "- Second arciticture is better than the first\n",
    "> so we run the second NN on the entire Train Data to see the accuracy"
   ]
  },
  {
   "cell_type": "markdown",
   "id": "d46b12a7",
   "metadata": {
    "papermill": {
     "duration": 0.007434,
     "end_time": "2022-12-31T13:58:17.666772",
     "exception": false,
     "start_time": "2022-12-31T13:58:17.659338",
     "status": "completed"
    },
    "tags": []
   },
   "source": [
    "# Rerun the second arciticuter on the entire training Data "
   ]
  },
  {
   "cell_type": "code",
   "execution_count": 10,
   "id": "59c415fb",
   "metadata": {
    "execution": {
     "iopub.execute_input": "2022-12-31T13:58:17.683193Z",
     "iopub.status.busy": "2022-12-31T13:58:17.682947Z",
     "iopub.status.idle": "2022-12-31T13:58:48.496302Z",
     "shell.execute_reply": "2022-12-31T13:58:48.495346Z"
    },
    "papermill": {
     "duration": 30.831825,
     "end_time": "2022-12-31T13:58:48.506201",
     "exception": false,
     "start_time": "2022-12-31T13:58:17.674376",
     "status": "completed"
    },
    "tags": []
   },
   "outputs": [
    {
     "name": "stdout",
     "output_type": "stream",
     "text": [
      "Train accuracy :  0.9963614344596863\n",
      "Test accuracy :  0.8983050584793091\n",
      "              precision    recall  f1-score   support\n",
      "\n",
      "           0       0.98      0.89      0.93        45\n",
      "           1       0.98      1.00      0.99        43\n",
      "           2       0.76      1.00      0.87        29\n",
      "           3       0.97      1.00      0.98        31\n",
      "           4       0.91      0.72      0.80        54\n",
      "           5       0.96      1.00      0.98        46\n",
      "           6       0.63      0.93      0.75        29\n",
      "           7       1.00      0.75      0.85        51\n",
      "           8       0.86      0.95      0.90        40\n",
      "           9       0.95      0.89      0.92        45\n",
      "\n",
      "    accuracy                           0.90       413\n",
      "   macro avg       0.90      0.91      0.90       413\n",
      "weighted avg       0.91      0.90      0.90       413\n",
      "\n"
     ]
    }
   ],
   "source": [
    "X_train, X_test, y_train, y_test = train_test_split(img_data_list, labels, test_size=0.2,shuffle=True)\n",
    "arch2 = model2.fit(X_train,y_train,epochs=100,batch_size=32,\n",
    "                    max_queue_size=20,\n",
    "                    use_multiprocessing=True,\n",
    "                    workers=1,verbose=0)\n",
    "\n",
    "train_eval = model2.evaluate(X_train,y_train,verbose=0)\n",
    "test_eval = model2.evaluate(X_test,y_test,verbose=0)\n",
    "print(\"Train accuracy : \",train_eval[1])\n",
    "print(\"Test accuracy : \",test_eval[1])\n",
    "y_pred = model2.predict(X_test)\n",
    "y_pred =np.argmax(y_pred, axis=1)\n",
    "print(classification_report(y_pred,y_test))"
   ]
  },
  {
   "cell_type": "markdown",
   "id": "96ce0a72",
   "metadata": {
    "papermill": {
     "duration": 0.007663,
     "end_time": "2022-12-31T13:58:48.522331",
     "exception": false,
     "start_time": "2022-12-31T13:58:48.514668",
     "status": "completed"
    },
    "tags": []
   },
   "source": [
    "# Train using normalized RGB image "
   ]
  },
  {
   "cell_type": "code",
   "execution_count": 11,
   "id": "51f7c07d",
   "metadata": {
    "execution": {
     "iopub.execute_input": "2022-12-31T13:58:48.538964Z",
     "iopub.status.busy": "2022-12-31T13:58:48.538678Z",
     "iopub.status.idle": "2022-12-31T13:58:48.554839Z",
     "shell.execute_reply": "2022-12-31T13:58:48.553975Z"
    },
    "papermill": {
     "duration": 0.026311,
     "end_time": "2022-12-31T13:58:48.556422",
     "exception": false,
     "start_time": "2022-12-31T13:58:48.530111",
     "status": "completed"
    },
    "tags": []
   },
   "outputs": [
    {
     "data": {
      "text/plain": [
       "(2062, 100, 100, 3)"
      ]
     },
     "execution_count": 11,
     "metadata": {},
     "output_type": "execute_result"
    }
   ],
   "source": [
    "rgb_images = np.array(rgb_images)\n",
    "rgb_images.shape"
   ]
  },
  {
   "cell_type": "markdown",
   "id": "e037d5e5",
   "metadata": {
    "papermill": {
     "duration": 0.00773,
     "end_time": "2022-12-31T13:58:48.572217",
     "exception": false,
     "start_time": "2022-12-31T13:58:48.564487",
     "status": "completed"
    },
    "tags": []
   },
   "source": [
    "# Preprocessing and normalization of Rgb images"
   ]
  },
  {
   "cell_type": "code",
   "execution_count": 12,
   "id": "47b989de",
   "metadata": {
    "execution": {
     "iopub.execute_input": "2022-12-31T13:58:48.589405Z",
     "iopub.status.busy": "2022-12-31T13:58:48.588973Z",
     "iopub.status.idle": "2022-12-31T13:58:48.663236Z",
     "shell.execute_reply": "2022-12-31T13:58:48.662589Z"
    },
    "papermill": {
     "duration": 0.08509,
     "end_time": "2022-12-31T13:58:48.665123",
     "exception": false,
     "start_time": "2022-12-31T13:58:48.580033",
     "status": "completed"
    },
    "tags": []
   },
   "outputs": [],
   "source": [
    "Average = np.mean(rgb_images,axis=0)\n",
    "for i in range(len(rgb_images)):\n",
    "    rgb_images[i] = rgb_images[i] - Average"
   ]
  },
  {
   "cell_type": "code",
   "execution_count": 13,
   "id": "616437dc",
   "metadata": {
    "execution": {
     "iopub.execute_input": "2022-12-31T13:58:48.682527Z",
     "iopub.status.busy": "2022-12-31T13:58:48.682133Z",
     "iopub.status.idle": "2022-12-31T13:58:48.725344Z",
     "shell.execute_reply": "2022-12-31T13:58:48.724521Z"
    },
    "papermill": {
     "duration": 0.053906,
     "end_time": "2022-12-31T13:58:48.727243",
     "exception": false,
     "start_time": "2022-12-31T13:58:48.673337",
     "status": "completed"
    },
    "tags": []
   },
   "outputs": [
    {
     "name": "stdout",
     "output_type": "stream",
     "text": [
      "(2062, 100, 100, 3)\n"
     ]
    }
   ],
   "source": [
    "rgb_images = rgb_images.astype('float32')\n",
    "rgb_images /= 255.0\n",
    "print (rgb_images.shape)"
   ]
  },
  {
   "cell_type": "markdown",
   "id": "17574724",
   "metadata": {
    "papermill": {
     "duration": 0.007768,
     "end_time": "2022-12-31T13:58:48.743104",
     "exception": false,
     "start_time": "2022-12-31T13:58:48.735336",
     "status": "completed"
    },
    "tags": []
   },
   "source": [
    "# A Convolutional Neural Network CNN"
   ]
  },
  {
   "cell_type": "code",
   "execution_count": 14,
   "id": "9d337c76",
   "metadata": {
    "execution": {
     "iopub.execute_input": "2022-12-31T13:58:48.760002Z",
     "iopub.status.busy": "2022-12-31T13:58:48.759713Z",
     "iopub.status.idle": "2022-12-31T13:58:48.826495Z",
     "shell.execute_reply": "2022-12-31T13:58:48.825658Z"
    },
    "papermill": {
     "duration": 0.077342,
     "end_time": "2022-12-31T13:58:48.828290",
     "exception": false,
     "start_time": "2022-12-31T13:58:48.750948",
     "status": "completed"
    },
    "tags": []
   },
   "outputs": [],
   "source": [
    "def model():\n",
    "    model = Sequential()\n",
    "    model.add(layers.Convolution2D(32, (3, 3), activation='relu', input_shape=(100, 100, 3)))\n",
    "    model.add(layers.MaxPooling2D((2, 2)))\n",
    "    model.add(layers.Dropout(0.25))\n",
    "    \n",
    "    model.add(layers.Convolution2D(128, (3, 3), activation='relu'))\n",
    "    model.add(layers.MaxPooling2D((2, 2)))\n",
    "    model.add(layers.Dropout(0.25))\n",
    "    \n",
    "    model.add(layers.Convolution2D(64, (3, 3), activation='relu'))\n",
    "    model.add(layers.MaxPooling2D((2, 2)))\n",
    "    model.add(layers.Dropout(0.25))\n",
    "       \n",
    "    model.add(layers.Flatten())\n",
    "    model.add(layers.Dense(128, activation='relu'))\n",
    "    model.add(layers.Dense(10, activation='softmax'))\n",
    "    model.compile(Adam(lr=0.0001),loss=\"sparse_categorical_crossentropy\",metrics=['accuracy'])\n",
    "\n",
    "    return model\n",
    "\n",
    "model3=model()"
   ]
  },
  {
   "cell_type": "markdown",
   "id": "71b57f55",
   "metadata": {
    "papermill": {
     "duration": 0.007666,
     "end_time": "2022-12-31T13:58:48.843809",
     "exception": false,
     "start_time": "2022-12-31T13:58:48.836143",
     "status": "completed"
    },
    "tags": []
   },
   "source": [
    "# CNN cross validation fit"
   ]
  },
  {
   "cell_type": "code",
   "execution_count": 15,
   "id": "79382465",
   "metadata": {
    "execution": {
     "iopub.execute_input": "2022-12-31T13:58:48.860795Z",
     "iopub.status.busy": "2022-12-31T13:58:48.860396Z",
     "iopub.status.idle": "2022-12-31T14:26:47.886722Z",
     "shell.execute_reply": "2022-12-31T14:26:47.886123Z"
    },
    "papermill": {
     "duration": 1679.045377,
     "end_time": "2022-12-31T14:26:47.896980",
     "exception": false,
     "start_time": "2022-12-31T13:58:48.851603",
     "status": "completed"
    },
    "scrolled": false,
    "tags": []
   },
   "outputs": [
    {
     "name": "stdout",
     "output_type": "stream",
     "text": [
      "*******************************CNN*******************************\n",
      "Cross Validation Fold Number 1\n",
      "Train accuracy :  79.4420838356018\n",
      "Test accuracy :  74.57627058029175\n",
      "              precision    recall  f1-score   support\n",
      "\n",
      "           0       1.00      0.64      0.78        53\n",
      "           1       0.78      0.85      0.81        41\n",
      "           2       0.62      0.80      0.70        35\n",
      "           3       0.84      0.91      0.88        35\n",
      "           4       0.62      0.52      0.56        46\n",
      "           5       0.76      0.92      0.83        38\n",
      "           6       0.68      0.72      0.70        53\n",
      "           7       0.60      0.62      0.61        29\n",
      "           8       0.77      0.77      0.77        39\n",
      "           9       0.83      0.77      0.80        44\n",
      "\n",
      "    accuracy                           0.75       413\n",
      "   macro avg       0.75      0.75      0.74       413\n",
      "weighted avg       0.76      0.75      0.74       413\n",
      "\n",
      "******************************************************\n",
      "Cross Validation Fold Number 2\n",
      "Train accuracy :  91.32807850837708\n",
      "Test accuracy :  82.08232522010803\n",
      "              precision    recall  f1-score   support\n",
      "\n",
      "           0       0.98      0.87      0.92        46\n",
      "           1       0.92      0.88      0.90        41\n",
      "           2       0.76      0.88      0.81        42\n",
      "           3       0.83      1.00      0.91        29\n",
      "           4       0.64      0.76      0.70        38\n",
      "           5       0.93      0.93      0.93        43\n",
      "           6       0.79      0.61      0.69        51\n",
      "           7       0.78      0.72      0.75        43\n",
      "           8       0.73      0.75      0.74        40\n",
      "           9       0.88      0.90      0.89        40\n",
      "\n",
      "    accuracy                           0.82       413\n",
      "   macro avg       0.82      0.83      0.82       413\n",
      "weighted avg       0.83      0.82      0.82       413\n",
      "\n",
      "******************************************************\n",
      "Cross Validation Fold Number 3\n",
      "Train accuracy :  95.39393782615662\n",
      "Test accuracy :  88.10679316520691\n",
      "              precision    recall  f1-score   support\n",
      "\n",
      "           0       0.88      0.98      0.93        46\n",
      "           1       0.93      0.91      0.92        44\n",
      "           2       0.88      0.75      0.81        40\n",
      "           3       0.85      0.95      0.90        37\n",
      "           4       0.88      0.80      0.84        45\n",
      "           5       0.97      0.90      0.94        40\n",
      "           6       0.95      0.80      0.87        49\n",
      "           7       0.74      0.89      0.81        36\n",
      "           8       0.80      0.90      0.85        31\n",
      "           9       0.91      0.95      0.93        44\n",
      "\n",
      "    accuracy                           0.88       412\n",
      "   macro avg       0.88      0.88      0.88       412\n",
      "weighted avg       0.89      0.88      0.88       412\n",
      "\n",
      "******************************************************\n",
      "Cross Validation Fold Number 4\n",
      "Train accuracy :  98.78787994384766\n",
      "Test accuracy :  93.93203854560852\n",
      "              precision    recall  f1-score   support\n",
      "\n",
      "           0       0.97      0.97      0.97        33\n",
      "           1       1.00      0.93      0.96        44\n",
      "           2       0.95      0.91      0.93        43\n",
      "           3       0.96      1.00      0.98        49\n",
      "           4       0.83      1.00      0.91        34\n",
      "           5       1.00      0.95      0.98        44\n",
      "           6       0.97      0.84      0.90        37\n",
      "           7       0.94      0.98      0.96        46\n",
      "           8       0.83      0.92      0.88        38\n",
      "           9       0.95      0.89      0.92        44\n",
      "\n",
      "    accuracy                           0.94       412\n",
      "   macro avg       0.94      0.94      0.94       412\n",
      "weighted avg       0.94      0.94      0.94       412\n",
      "\n",
      "******************************************************\n",
      "Cross Validation Fold Number 5\n",
      "Train accuracy :  99.6363639831543\n",
      "Test accuracy :  95.63106894493103\n",
      "              precision    recall  f1-score   support\n",
      "\n",
      "           0       0.98      1.00      0.99        45\n",
      "           1       1.00      0.95      0.97        40\n",
      "           2       0.97      0.88      0.92        41\n",
      "           3       0.98      0.98      0.98        41\n",
      "           4       0.93      1.00      0.96        38\n",
      "           5       1.00      1.00      1.00        39\n",
      "           6       0.95      0.86      0.90        43\n",
      "           7       0.84      0.95      0.89        40\n",
      "           8       0.94      0.96      0.95        50\n",
      "           9       1.00      1.00      1.00        35\n",
      "\n",
      "    accuracy                           0.96       412\n",
      "   macro avg       0.96      0.96      0.96       412\n",
      "weighted avg       0.96      0.96      0.96       412\n",
      "\n",
      "******************************************************\n",
      "Summary of CNN: \n",
      "Mean Train accuracy:  92.91766881942749\n",
      "Mean Test accuracy:  86.86569929122925\n"
     ]
    }
   ],
   "source": [
    "train_acc3 = []\n",
    "test_acc3 = []\n",
    "print(\"*******************************CNN*******************************\")\n",
    "kf = KFold(n_splits=5,random_state=None, shuffle=True)\n",
    "i = 1\n",
    "for train_index, test_index in kf.split(rgb_images):\n",
    "    X_train, X_test = rgb_images[train_index], rgb_images[test_index]\n",
    "    y_train, y_test = labels[train_index], labels[test_index]\n",
    "    print(\"Cross Validation Fold Number\",str(i))\n",
    "    model3.fit(X_train,y_train,epochs=25,batch_size=256,max_queue_size=20,use_multiprocessing=True,workers=1,verbose=0)\n",
    "    i +=1\n",
    "    y_pred = model3.predict(X_test)\n",
    "    y_pred =np.argmax(y_pred, axis=1)\n",
    "    train_eval = model3.evaluate(X_train,y_train,verbose=0)\n",
    "    test_eval = model3.evaluate(X_test,y_test,verbose=0)\n",
    "    print(\"Train accuracy : \",train_eval[1]*100)\n",
    "    print(\"Test accuracy : \",test_eval[1]*100)\n",
    "    print(classification_report(y_pred,y_test))\n",
    "    train_acc3.append(train_eval[1])\n",
    "    test_acc3.append(test_eval[1])\n",
    "    print(\"******************************************************\")\n",
    "\n",
    "\n",
    "print(\"Summary of CNN: \")\n",
    "print(\"Mean Train accuracy: \",np.mean(train_acc3)*100)\n",
    "print(\"Mean Test accuracy: \",np.mean(test_acc3)*100)"
   ]
  },
  {
   "cell_type": "markdown",
   "id": "3892021b",
   "metadata": {
    "papermill": {
     "duration": 0.008051,
     "end_time": "2022-12-31T14:26:47.914222",
     "exception": false,
     "start_time": "2022-12-31T14:26:47.906171",
     "status": "completed"
    },
    "tags": []
   },
   "source": [
    "# Using support verctor machine  (SVC)"
   ]
  },
  {
   "cell_type": "markdown",
   "id": "6ba63cb1",
   "metadata": {
    "papermill": {
     "duration": 0.008071,
     "end_time": "2022-12-31T14:26:47.930546",
     "exception": false,
     "start_time": "2022-12-31T14:26:47.922475",
     "status": "completed"
    },
    "tags": []
   },
   "source": [
    "> convert images to flatten array"
   ]
  },
  {
   "cell_type": "code",
   "execution_count": 16,
   "id": "33401cb0",
   "metadata": {
    "execution": {
     "iopub.execute_input": "2022-12-31T14:26:47.948792Z",
     "iopub.status.busy": "2022-12-31T14:26:47.948066Z",
     "iopub.status.idle": "2022-12-31T14:26:48.062099Z",
     "shell.execute_reply": "2022-12-31T14:26:48.061277Z"
    },
    "papermill": {
     "duration": 0.12533,
     "end_time": "2022-12-31T14:26:48.064092",
     "exception": false,
     "start_time": "2022-12-31T14:26:47.938762",
     "status": "completed"
    },
    "tags": []
   },
   "outputs": [],
   "source": [
    "flat_images = []\n",
    "for i in range(len(rgb_images)):\n",
    "    flat_images.append(rgb_images[i].flatten())\n",
    "flat_images = np.array(flat_images)"
   ]
  },
  {
   "cell_type": "markdown",
   "id": "3c4e2b56",
   "metadata": {
    "papermill": {
     "duration": 0.008168,
     "end_time": "2022-12-31T14:26:48.080904",
     "exception": false,
     "start_time": "2022-12-31T14:26:48.072736",
     "status": "completed"
    },
    "tags": []
   },
   "source": [
    "# Split data after flatten to run svm"
   ]
  },
  {
   "cell_type": "code",
   "execution_count": 17,
   "id": "4b61b081",
   "metadata": {
    "execution": {
     "iopub.execute_input": "2022-12-31T14:26:48.098782Z",
     "iopub.status.busy": "2022-12-31T14:26:48.098484Z",
     "iopub.status.idle": "2022-12-31T14:26:48.145024Z",
     "shell.execute_reply": "2022-12-31T14:26:48.144137Z"
    },
    "papermill": {
     "duration": 0.057456,
     "end_time": "2022-12-31T14:26:48.146604",
     "exception": false,
     "start_time": "2022-12-31T14:26:48.089148",
     "status": "completed"
    },
    "tags": []
   },
   "outputs": [],
   "source": [
    "x = pd.DataFrame(flat_images)\n",
    "y = np.array(labels)\n",
    "X_train, X_test, y_train, y_test = train_test_split(x,y,test_size=0.2,random_state=15000,shuffle=True)"
   ]
  },
  {
   "cell_type": "code",
   "execution_count": 18,
   "id": "4706e0e4",
   "metadata": {
    "execution": {
     "iopub.execute_input": "2022-12-31T14:26:48.164843Z",
     "iopub.status.busy": "2022-12-31T14:26:48.164572Z",
     "iopub.status.idle": "2022-12-31T14:26:48.168947Z",
     "shell.execute_reply": "2022-12-31T14:26:48.168175Z"
    },
    "papermill": {
     "duration": 0.016326,
     "end_time": "2022-12-31T14:26:48.171464",
     "exception": false,
     "start_time": "2022-12-31T14:26:48.155138",
     "status": "completed"
    },
    "tags": []
   },
   "outputs": [
    {
     "name": "stdout",
     "output_type": "stream",
     "text": [
      "(1649, 30000)\n",
      "(1649,)\n",
      "(413, 30000)\n",
      "(413,)\n"
     ]
    }
   ],
   "source": [
    "print(X_train.shape)\n",
    "print(y_train.shape)\n",
    "print(X_test.shape)\n",
    "print(y_test.shape)"
   ]
  },
  {
   "cell_type": "code",
   "execution_count": 19,
   "id": "fe7ede31",
   "metadata": {
    "execution": {
     "iopub.execute_input": "2022-12-31T14:26:48.190773Z",
     "iopub.status.busy": "2022-12-31T14:26:48.190483Z",
     "iopub.status.idle": "2022-12-31T14:29:23.705352Z",
     "shell.execute_reply": "2022-12-31T14:29:23.695602Z"
    },
    "papermill": {
     "duration": 155.531492,
     "end_time": "2022-12-31T14:29:23.712046",
     "exception": false,
     "start_time": "2022-12-31T14:26:48.180554",
     "status": "completed"
    },
    "tags": []
   },
   "outputs": [
    {
     "name": "stdout",
     "output_type": "stream",
     "text": [
      "Model Train accuracy is:  0.9666464523953912\n",
      "Model Test accuracy is:  0.6368038740920097\n",
      "              precision    recall  f1-score   support\n",
      "\n",
      "           0       0.83      0.83      0.83        41\n",
      "           1       0.71      0.66      0.68        41\n",
      "           2       0.45      0.61      0.52        36\n",
      "           3       0.84      0.63      0.72        43\n",
      "           4       0.47      0.39      0.42        44\n",
      "           5       0.91      0.78      0.84        40\n",
      "           6       0.53      0.62      0.57        42\n",
      "           7       0.37      0.61      0.46        33\n",
      "           8       0.69      0.69      0.69        42\n",
      "           9       0.79      0.59      0.67        51\n",
      "\n",
      "    accuracy                           0.64       413\n",
      "   macro avg       0.66      0.64      0.64       413\n",
      "weighted avg       0.67      0.64      0.65       413\n",
      "\n"
     ]
    }
   ],
   "source": [
    "svm = SVC()\n",
    "svm.fit(X_train, y_train)\n",
    "\n",
    "train_acc = svm.score(X_train, y_train)\n",
    "print('Model Train accuracy is: ', train_acc)\n",
    "\n",
    "test_acc = svm.score(X_test, y_test)\n",
    "print('Model Test accuracy is: ', test_acc)\n",
    "\n",
    "print(classification_report(y_test, svm.predict(X_test)))"
   ]
  },
  {
   "cell_type": "markdown",
   "id": "2d6fba85",
   "metadata": {
    "papermill": {
     "duration": 0.010643,
     "end_time": "2022-12-31T14:29:23.734359",
     "exception": false,
     "start_time": "2022-12-31T14:29:23.723716",
     "status": "completed"
    },
    "tags": []
   },
   "source": [
    "# End "
   ]
  }
 ],
 "metadata": {
  "kernelspec": {
   "display_name": "Python 3 (ipykernel)",
   "language": "python",
   "name": "python3"
  },
  "language_info": {
   "codemirror_mode": {
    "name": "ipython",
    "version": 3
   },
   "file_extension": ".py",
   "mimetype": "text/x-python",
   "name": "python",
   "nbconvert_exporter": "python",
   "pygments_lexer": "ipython3",
   "version": "3.9.13"
  },
  "papermill": {
   "default_parameters": {},
   "duration": 2060.84395,
   "end_time": "2022-12-31T14:29:26.695337",
   "environment_variables": {},
   "exception": null,
   "input_path": "__notebook__.ipynb",
   "output_path": "__notebook__.ipynb",
   "parameters": {},
   "start_time": "2022-12-31T13:55:05.851387",
   "version": "2.3.4"
  }
 },
 "nbformat": 4,
 "nbformat_minor": 5
}
